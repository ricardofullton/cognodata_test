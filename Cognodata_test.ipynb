{
 "cells": [
  {
   "cell_type": "code",
   "execution_count": 10,
   "metadata": {},
   "outputs": [],
   "source": [
    "import pandas as pd\n",
    "import random\n",
    "import numpy as np\n",
    "import matplotlib.pyplot as plt\n",
    "import seaborn as sns\n",
    "import missingno as msno\n",
    "from fancyimpute import KNN    \n",
    "from sklearn.model_selection import train_test_split,cross_val_score, KFold, StratifiedKFold ,GridSearchCV, RandomizedSearchCV\n",
    "from sklearn.ensemble import RandomForestClassifier, AdaBoostClassifier\n",
    "from scipy.stats import uniform\n",
    "from sklearn.preprocessing import StandardScaler,OneHotEncoder, LabelEncoder, Imputer\n",
    "from sklearn.linear_model import LogisticRegression\n",
    "from sklearn.metrics import roc_auc_score,confusion_matrix, classification_report, auc, roc_curve, precision_recall_curve, \\\n",
    "average_precision_score,make_scorer,recall_score, accuracy_score, precision_score\n",
    "from sklearn import svm\n",
    "from xgboost.sklearn import XGBClassifier  \n",
    "from xgboost.sklearn import XGBRegressor\n",
    "import warnings; warnings.simplefilter('ignore')\n",
    "from keras.models import Sequential\n",
    "from keras.layers import Dense\n",
    "from keras.wrappers.scikit_learn import KerasClassifier\n",
    "from sklearn.pipeline import Pipeline"
   ]
  },
  {
   "cell_type": "code",
   "execution_count": 4,
   "metadata": {
    "collapsed": true
   },
   "outputs": [],
   "source": [
    "df=  pd.read_csv(filepath_or_buffer='data_examen_sanit.txt', delimiter='\\t')"
   ]
  },
  {
   "cell_type": "code",
   "execution_count": 7,
   "metadata": {},
   "outputs": [
    {
     "data": {
      "text/html": [
       "<div>\n",
       "<style>\n",
       "    .dataframe thead tr:only-child th {\n",
       "        text-align: right;\n",
       "    }\n",
       "\n",
       "    .dataframe thead th {\n",
       "        text-align: left;\n",
       "    }\n",
       "\n",
       "    .dataframe tbody tr th {\n",
       "        vertical-align: top;\n",
       "    }\n",
       "</style>\n",
       "<table border=\"1\" class=\"dataframe\">\n",
       "  <thead>\n",
       "    <tr style=\"text-align: right;\">\n",
       "      <th></th>\n",
       "      <th>target</th>\n",
       "      <th>var1</th>\n",
       "      <th>var2</th>\n",
       "      <th>var3</th>\n",
       "      <th>var4</th>\n",
       "      <th>var5</th>\n",
       "      <th>var6</th>\n",
       "      <th>var7</th>\n",
       "      <th>var8</th>\n",
       "      <th>var9</th>\n",
       "      <th>...</th>\n",
       "      <th>var13</th>\n",
       "      <th>var14</th>\n",
       "      <th>var15</th>\n",
       "      <th>var16</th>\n",
       "      <th>var17</th>\n",
       "      <th>var18</th>\n",
       "      <th>var19</th>\n",
       "      <th>var20</th>\n",
       "      <th>var21</th>\n",
       "      <th>var22</th>\n",
       "    </tr>\n",
       "  </thead>\n",
       "  <tbody>\n",
       "    <tr>\n",
       "      <th>0</th>\n",
       "      <td>1</td>\n",
       "      <td>1</td>\n",
       "      <td>61</td>\n",
       "      <td>0.0</td>\n",
       "      <td>0.0</td>\n",
       "      <td>0.0</td>\n",
       "      <td>165.5</td>\n",
       "      <td>0.05625</td>\n",
       "      <td>1.0</td>\n",
       "      <td>-0.198475</td>\n",
       "      <td>...</td>\n",
       "      <td>0.000000</td>\n",
       "      <td>0</td>\n",
       "      <td>0.0</td>\n",
       "      <td>0</td>\n",
       "      <td>0.0</td>\n",
       "      <td>0.000000</td>\n",
       "      <td>0.000000</td>\n",
       "      <td>0.000000</td>\n",
       "      <td>0.000000</td>\n",
       "      <td>0.000000</td>\n",
       "    </tr>\n",
       "    <tr>\n",
       "      <th>1</th>\n",
       "      <td>0</td>\n",
       "      <td>164</td>\n",
       "      <td>58</td>\n",
       "      <td>0.0</td>\n",
       "      <td>0.0</td>\n",
       "      <td>0.0</td>\n",
       "      <td>0.0</td>\n",
       "      <td>0.00000</td>\n",
       "      <td>1.0</td>\n",
       "      <td>-0.341181</td>\n",
       "      <td>...</td>\n",
       "      <td>2.333333</td>\n",
       "      <td>4</td>\n",
       "      <td>1.0</td>\n",
       "      <td>0</td>\n",
       "      <td>8400.0</td>\n",
       "      <td>2780.186523</td>\n",
       "      <td>5608.359863</td>\n",
       "      <td>3172.283203</td>\n",
       "      <td>3689.523438</td>\n",
       "      <td>11.333333</td>\n",
       "    </tr>\n",
       "    <tr>\n",
       "      <th>2</th>\n",
       "      <td>1</td>\n",
       "      <td>61</td>\n",
       "      <td>60</td>\n",
       "      <td>0.0</td>\n",
       "      <td>0.0</td>\n",
       "      <td>0.0</td>\n",
       "      <td>0.0</td>\n",
       "      <td>0.00000</td>\n",
       "      <td>1.0</td>\n",
       "      <td>-0.078947</td>\n",
       "      <td>...</td>\n",
       "      <td>2.000000</td>\n",
       "      <td>2</td>\n",
       "      <td>3.0</td>\n",
       "      <td>0</td>\n",
       "      <td>0.0</td>\n",
       "      <td>0.000000</td>\n",
       "      <td>0.000000</td>\n",
       "      <td>0.000000</td>\n",
       "      <td>0.000000</td>\n",
       "      <td>5.500000</td>\n",
       "    </tr>\n",
       "    <tr>\n",
       "      <th>3</th>\n",
       "      <td>0</td>\n",
       "      <td>108</td>\n",
       "      <td>49</td>\n",
       "      <td>0.0</td>\n",
       "      <td>0.0</td>\n",
       "      <td>0.0</td>\n",
       "      <td>0.0</td>\n",
       "      <td>0.00000</td>\n",
       "      <td>1.0</td>\n",
       "      <td>-0.924464</td>\n",
       "      <td>...</td>\n",
       "      <td>3.666667</td>\n",
       "      <td>4</td>\n",
       "      <td>2.0</td>\n",
       "      <td>0</td>\n",
       "      <td>67320.0</td>\n",
       "      <td>0.000000</td>\n",
       "      <td>0.000000</td>\n",
       "      <td>0.000000</td>\n",
       "      <td>2168.733398</td>\n",
       "      <td>8.500000</td>\n",
       "    </tr>\n",
       "    <tr>\n",
       "      <th>4</th>\n",
       "      <td>0</td>\n",
       "      <td>157</td>\n",
       "      <td>74</td>\n",
       "      <td>0.0</td>\n",
       "      <td>0.0</td>\n",
       "      <td>0.0</td>\n",
       "      <td>0.0</td>\n",
       "      <td>0.00000</td>\n",
       "      <td>1.0</td>\n",
       "      <td>1.705882</td>\n",
       "      <td>...</td>\n",
       "      <td>2.000000</td>\n",
       "      <td>3</td>\n",
       "      <td>1.0</td>\n",
       "      <td>0</td>\n",
       "      <td>12600.0</td>\n",
       "      <td>8409.586914</td>\n",
       "      <td>3175.889893</td>\n",
       "      <td>5024.774902</td>\n",
       "      <td>0.000000</td>\n",
       "      <td>0.000000</td>\n",
       "    </tr>\n",
       "  </tbody>\n",
       "</table>\n",
       "<p>5 rows × 23 columns</p>\n",
       "</div>"
      ],
      "text/plain": [
       "   target  var1  var2  var3  var4  var5   var6     var7  var8      var9  \\\n",
       "0       1     1    61   0.0   0.0   0.0  165.5  0.05625   1.0 -0.198475   \n",
       "1       0   164    58   0.0   0.0   0.0    0.0  0.00000   1.0 -0.341181   \n",
       "2       1    61    60   0.0   0.0   0.0    0.0  0.00000   1.0 -0.078947   \n",
       "3       0   108    49   0.0   0.0   0.0    0.0  0.00000   1.0 -0.924464   \n",
       "4       0   157    74   0.0   0.0   0.0    0.0  0.00000   1.0  1.705882   \n",
       "\n",
       "     ...         var13  var14  var15  var16    var17        var18  \\\n",
       "0    ...      0.000000      0    0.0      0      0.0     0.000000   \n",
       "1    ...      2.333333      4    1.0      0   8400.0  2780.186523   \n",
       "2    ...      2.000000      2    3.0      0      0.0     0.000000   \n",
       "3    ...      3.666667      4    2.0      0  67320.0     0.000000   \n",
       "4    ...      2.000000      3    1.0      0  12600.0  8409.586914   \n",
       "\n",
       "         var19        var20        var21      var22  \n",
       "0     0.000000     0.000000     0.000000   0.000000  \n",
       "1  5608.359863  3172.283203  3689.523438  11.333333  \n",
       "2     0.000000     0.000000     0.000000   5.500000  \n",
       "3     0.000000     0.000000  2168.733398   8.500000  \n",
       "4  3175.889893  5024.774902     0.000000   0.000000  \n",
       "\n",
       "[5 rows x 23 columns]"
      ]
     },
     "execution_count": 7,
     "metadata": {},
     "output_type": "execute_result"
    }
   ],
   "source": [
    "df.head()"
   ]
  },
  {
   "cell_type": "code",
   "execution_count": 8,
   "metadata": {},
   "outputs": [
    {
     "data": {
      "text/plain": [
       "'\\nBLOQUE = CONO=IMIENTOS GENERALES DE PYTHONb\\n\\nPregunta 1.1: =rea una=20funcion a la cual le pases por parametros el =0D\\nnume=o de filas y el numero de columnas y te la =ellene =on numeros aleatorios del 1 al 100 con 2 deci=ales\\nC=ea una matriz de 10 filas y 7 columnas. (No=20utilices =UMPY ni PANDAS en este apartado, en los dem=C3¡s puedes=20usarlo)\\n'"
      ]
     },
     "execution_count": 8,
     "metadata": {},
     "output_type": "execute_result"
    }
   ],
   "source": [
    "\"\"\"\n",
    "BLOQUE = CONO=IMIENTOS GENERALES DE PYTHONb\n",
    "\n",
    "Pregunta 1.1: =rea una=20funcion a la cual le pases por parametros el =0D\n",
    "nume=o de filas y el numero de columnas y te la =ellene =on numeros aleatorios del 1 al 100 con 2 deci=ales\n",
    "C=ea una matriz de 10 filas y 7 columnas. (No=20utilices =UMPY ni PANDAS en este apartado, en los dem=C3¡s puedes=20usarlo)\n",
    "\"\"\""
   ]
  },
  {
   "cell_type": "code",
   "execution_count": 15,
   "metadata": {},
   "outputs": [],
   "source": [
    "def matrix_creator(filas,columnas):\n",
    "    mat = []\n",
    "    for i in range(filas):\n",
    "        rowList = []\n",
    "        for j in range(columnas):\n",
    "            # you need to increment through dataList here, like this:\n",
    "            rowList.append(round(random.uniform(1, 100),2))\n",
    "        mat.append(rowList)\n",
    "\n",
    "    return mat\n",
    "    "
   ]
  },
  {
   "cell_type": "code",
   "execution_count": 18,
   "metadata": {},
   "outputs": [
    {
     "data": {
      "text/plain": [
       "[[81.31, 61.31, 50.65, 26.09, 72.89, 16.49, 87.86],\n",
       " [94.51, 9.09, 90.85, 28.2, 2.96, 40.48, 73.89],\n",
       " [93.76, 3.52, 63.72, 38.93, 35.97, 59.94, 41.98],\n",
       " [2.45, 28.9, 76.43, 39.11, 50.14, 4.23, 71.83],\n",
       " [28.5, 79.53, 83.48, 60.45, 89.02, 89.68, 1.76],\n",
       " [42.54, 21.72, 26.75, 52.55, 64.85, 30.29, 91.66],\n",
       " [34.54, 71.53, 5.43, 76.27, 60.95, 93.5, 48.47],\n",
       " [64.03, 54.44, 53.79, 4.91, 13.49, 99.8, 31.82],\n",
       " [2.91, 47.97, 46.26, 88.61, 63.7, 77.5, 70.46],\n",
       " [27.41, 32.78, 46.04, 89.87, 87.99, 56.53, 65.33]]"
      ]
     },
     "execution_count": 18,
     "metadata": {},
     "output_type": "execute_result"
    }
   ],
   "source": [
    "matrix_test=matrix_creator(10,7)\n",
    "matrix_test"
   ]
  },
  {
   "cell_type": "code",
   "execution_count": null,
   "metadata": {
    "collapsed": true
   },
   "outputs": [],
   "source": [
    "\"\"\"\n",
    "Pregunta 1=2: A partir =e la matriz anterior crea un dataframe d= PANDAS, poniend= como nombre de columnas los dÃ­as =e la semana\n",
    "=i no pudiste crear la matriz del apar=ado anterior, puede= crear una a partir de NUMPY\n",
    "\"\"\""
   ]
  },
  {
   "cell_type": "code",
   "execution_count": 20,
   "metadata": {},
   "outputs": [
    {
     "data": {
      "text/html": [
       "<div>\n",
       "<style>\n",
       "    .dataframe thead tr:only-child th {\n",
       "        text-align: right;\n",
       "    }\n",
       "\n",
       "    .dataframe thead th {\n",
       "        text-align: left;\n",
       "    }\n",
       "\n",
       "    .dataframe tbody tr th {\n",
       "        vertical-align: top;\n",
       "    }\n",
       "</style>\n",
       "<table border=\"1\" class=\"dataframe\">\n",
       "  <thead>\n",
       "    <tr style=\"text-align: right;\">\n",
       "      <th></th>\n",
       "      <th>0</th>\n",
       "      <th>1</th>\n",
       "      <th>2</th>\n",
       "      <th>3</th>\n",
       "      <th>4</th>\n",
       "      <th>5</th>\n",
       "      <th>6</th>\n",
       "    </tr>\n",
       "  </thead>\n",
       "  <tbody>\n",
       "    <tr>\n",
       "      <th>0</th>\n",
       "      <td>81.31</td>\n",
       "      <td>61.31</td>\n",
       "      <td>50.65</td>\n",
       "      <td>26.09</td>\n",
       "      <td>72.89</td>\n",
       "      <td>16.49</td>\n",
       "      <td>87.86</td>\n",
       "    </tr>\n",
       "    <tr>\n",
       "      <th>1</th>\n",
       "      <td>94.51</td>\n",
       "      <td>9.09</td>\n",
       "      <td>90.85</td>\n",
       "      <td>28.20</td>\n",
       "      <td>2.96</td>\n",
       "      <td>40.48</td>\n",
       "      <td>73.89</td>\n",
       "    </tr>\n",
       "    <tr>\n",
       "      <th>2</th>\n",
       "      <td>93.76</td>\n",
       "      <td>3.52</td>\n",
       "      <td>63.72</td>\n",
       "      <td>38.93</td>\n",
       "      <td>35.97</td>\n",
       "      <td>59.94</td>\n",
       "      <td>41.98</td>\n",
       "    </tr>\n",
       "    <tr>\n",
       "      <th>3</th>\n",
       "      <td>2.45</td>\n",
       "      <td>28.90</td>\n",
       "      <td>76.43</td>\n",
       "      <td>39.11</td>\n",
       "      <td>50.14</td>\n",
       "      <td>4.23</td>\n",
       "      <td>71.83</td>\n",
       "    </tr>\n",
       "    <tr>\n",
       "      <th>4</th>\n",
       "      <td>28.50</td>\n",
       "      <td>79.53</td>\n",
       "      <td>83.48</td>\n",
       "      <td>60.45</td>\n",
       "      <td>89.02</td>\n",
       "      <td>89.68</td>\n",
       "      <td>1.76</td>\n",
       "    </tr>\n",
       "    <tr>\n",
       "      <th>5</th>\n",
       "      <td>42.54</td>\n",
       "      <td>21.72</td>\n",
       "      <td>26.75</td>\n",
       "      <td>52.55</td>\n",
       "      <td>64.85</td>\n",
       "      <td>30.29</td>\n",
       "      <td>91.66</td>\n",
       "    </tr>\n",
       "    <tr>\n",
       "      <th>6</th>\n",
       "      <td>34.54</td>\n",
       "      <td>71.53</td>\n",
       "      <td>5.43</td>\n",
       "      <td>76.27</td>\n",
       "      <td>60.95</td>\n",
       "      <td>93.50</td>\n",
       "      <td>48.47</td>\n",
       "    </tr>\n",
       "    <tr>\n",
       "      <th>7</th>\n",
       "      <td>64.03</td>\n",
       "      <td>54.44</td>\n",
       "      <td>53.79</td>\n",
       "      <td>4.91</td>\n",
       "      <td>13.49</td>\n",
       "      <td>99.80</td>\n",
       "      <td>31.82</td>\n",
       "    </tr>\n",
       "    <tr>\n",
       "      <th>8</th>\n",
       "      <td>2.91</td>\n",
       "      <td>47.97</td>\n",
       "      <td>46.26</td>\n",
       "      <td>88.61</td>\n",
       "      <td>63.70</td>\n",
       "      <td>77.50</td>\n",
       "      <td>70.46</td>\n",
       "    </tr>\n",
       "    <tr>\n",
       "      <th>9</th>\n",
       "      <td>27.41</td>\n",
       "      <td>32.78</td>\n",
       "      <td>46.04</td>\n",
       "      <td>89.87</td>\n",
       "      <td>87.99</td>\n",
       "      <td>56.53</td>\n",
       "      <td>65.33</td>\n",
       "    </tr>\n",
       "  </tbody>\n",
       "</table>\n",
       "</div>"
      ],
      "text/plain": [
       "       0      1      2      3      4      5      6\n",
       "0  81.31  61.31  50.65  26.09  72.89  16.49  87.86\n",
       "1  94.51   9.09  90.85  28.20   2.96  40.48  73.89\n",
       "2  93.76   3.52  63.72  38.93  35.97  59.94  41.98\n",
       "3   2.45  28.90  76.43  39.11  50.14   4.23  71.83\n",
       "4  28.50  79.53  83.48  60.45  89.02  89.68   1.76\n",
       "5  42.54  21.72  26.75  52.55  64.85  30.29  91.66\n",
       "6  34.54  71.53   5.43  76.27  60.95  93.50  48.47\n",
       "7  64.03  54.44  53.79   4.91  13.49  99.80  31.82\n",
       "8   2.91  47.97  46.26  88.61  63.70  77.50  70.46\n",
       "9  27.41  32.78  46.04  89.87  87.99  56.53  65.33"
      ]
     },
     "execution_count": 20,
     "metadata": {},
     "output_type": "execute_result"
    }
   ],
   "source": [
    "cogno_df= pd.DataFrame(matrix_test)\n",
    "cogno_df"
   ]
  },
  {
   "cell_type": "code",
   "execution_count": 21,
   "metadata": {},
   "outputs": [
    {
     "data": {
      "text/plain": [
       "'\\n=regunta 1.3: Como crearÃ\\xadas una =structura de datos si =l tipo de dato no fuera unifor=e (mismo tipo de dato)?\\n=0ACrea una estructura cuyo pri=er elemento sea un vector =e NUMPY de 10 nÃºmeros =leatorios entre 1 y 100\\n= el segundo elemento un v=ctor con esos mismos valores =ero como caracteres.\\n'"
      ]
     },
     "execution_count": 21,
     "metadata": {},
     "output_type": "execute_result"
    }
   ],
   "source": [
    "\"\"\"\n",
    "=regunta 1.3: Como crearÃ­as una =structura de datos si =l tipo de dato no fuera unifor=e (mismo tipo de dato)?\n",
    "=0ACrea una estructura cuyo pri=er elemento sea un vector =e NUMPY de 10 nÃºmeros =leatorios entre 1 y 100\n",
    "= el segundo elemento un v=ctor con esos mismos valores =ero como caracteres.\n",
    "\"\"\""
   ]
  },
  {
   "cell_type": "code",
   "execution_count": 29,
   "metadata": {
    "collapsed": true
   },
   "outputs": [],
   "source": [
    "ejemplo = []\n",
    "rowList=[]\n",
    "for i in range(10):\n",
    "    # you need to increment through dataList here, like this:\n",
    "    rowList.append(round(random.uniform(1, 100),2))\n",
    "ejemplo.append(rowList)\n",
    "string_list=[]\n",
    "for i in range(10):\n",
    "    # you need to increment through dataList here, like this:\n",
    "    string_list.append( str( round(random.uniform(1, 100),2) )  )\n",
    "\n",
    "ejemplo.append(string_list)"
   ]
  },
  {
   "cell_type": "code",
   "execution_count": 30,
   "metadata": {},
   "outputs": [
    {
     "data": {
      "text/html": [
       "<div>\n",
       "<style>\n",
       "    .dataframe thead tr:only-child th {\n",
       "        text-align: right;\n",
       "    }\n",
       "\n",
       "    .dataframe thead th {\n",
       "        text-align: left;\n",
       "    }\n",
       "\n",
       "    .dataframe tbody tr th {\n",
       "        vertical-align: top;\n",
       "    }\n",
       "</style>\n",
       "<table border=\"1\" class=\"dataframe\">\n",
       "  <thead>\n",
       "    <tr style=\"text-align: right;\">\n",
       "      <th></th>\n",
       "      <th>0</th>\n",
       "      <th>1</th>\n",
       "      <th>2</th>\n",
       "      <th>3</th>\n",
       "      <th>4</th>\n",
       "      <th>5</th>\n",
       "      <th>6</th>\n",
       "      <th>7</th>\n",
       "      <th>8</th>\n",
       "      <th>9</th>\n",
       "    </tr>\n",
       "  </thead>\n",
       "  <tbody>\n",
       "    <tr>\n",
       "      <th>0</th>\n",
       "      <td>18.04</td>\n",
       "      <td>96.64</td>\n",
       "      <td>13.4</td>\n",
       "      <td>20.59</td>\n",
       "      <td>94.49</td>\n",
       "      <td>4.18</td>\n",
       "      <td>82.56</td>\n",
       "      <td>55.28</td>\n",
       "      <td>27.21</td>\n",
       "      <td>33.85</td>\n",
       "    </tr>\n",
       "    <tr>\n",
       "      <th>1</th>\n",
       "      <td>99.28</td>\n",
       "      <td>35.27</td>\n",
       "      <td>73.49</td>\n",
       "      <td>77.99</td>\n",
       "      <td>79.45</td>\n",
       "      <td>89.66</td>\n",
       "      <td>56.04</td>\n",
       "      <td>50.86</td>\n",
       "      <td>96.98</td>\n",
       "      <td>2.42</td>\n",
       "    </tr>\n",
       "  </tbody>\n",
       "</table>\n",
       "</div>"
      ],
      "text/plain": [
       "       0      1      2      3      4      5      6      7      8      9\n",
       "0  18.04  96.64   13.4  20.59  94.49   4.18  82.56  55.28  27.21  33.85\n",
       "1  99.28  35.27  73.49  77.99  79.45  89.66  56.04  50.86  96.98   2.42"
      ]
     },
     "execution_count": 30,
     "metadata": {},
     "output_type": "execute_result"
    }
   ],
   "source": [
    "ejemplo_df= pd.DataFrame(ejemplo)\n",
    "ejemplo_df"
   ]
  },
  {
   "cell_type": "code",
   "execution_count": 34,
   "metadata": {},
   "outputs": [
    {
     "data": {
      "text/plain": [
       "0    float64\n",
       "1    float64\n",
       "2    float64\n",
       "3    float64\n",
       "4    float64\n",
       "5    float64\n",
       "6    float64\n",
       "7    float64\n",
       "8    float64\n",
       "9    float64\n",
       "dtype: object"
      ]
     },
     "execution_count": 34,
     "metadata": {},
     "output_type": "execute_result"
    }
   ],
   "source": [
    "ejemplo_df.dtypes"
   ]
  },
  {
   "cell_type": "code",
   "execution_count": 35,
   "metadata": {},
   "outputs": [],
   "source": [
    "for col in  ejemplo_df.columns:\n",
    "    ejemplo_df[col] = pd.to_numeric(ejemplo_df[col], errors='coerce')"
   ]
  },
  {
   "cell_type": "code",
   "execution_count": 36,
   "metadata": {},
   "outputs": [
    {
     "data": {
      "text/plain": [
       "0    float64\n",
       "1    float64\n",
       "2    float64\n",
       "3    float64\n",
       "4    float64\n",
       "5    float64\n",
       "6    float64\n",
       "7    float64\n",
       "8    float64\n",
       "9    float64\n",
       "dtype: object"
      ]
     },
     "execution_count": 36,
     "metadata": {},
     "output_type": "execute_result"
    }
   ],
   "source": [
    "ejemplo_df.dtypes"
   ]
  },
  {
   "cell_type": "code",
   "execution_count": 37,
   "metadata": {},
   "outputs": [
    {
     "data": {
      "text/html": [
       "<div>\n",
       "<style>\n",
       "    .dataframe thead tr:only-child th {\n",
       "        text-align: right;\n",
       "    }\n",
       "\n",
       "    .dataframe thead th {\n",
       "        text-align: left;\n",
       "    }\n",
       "\n",
       "    .dataframe tbody tr th {\n",
       "        vertical-align: top;\n",
       "    }\n",
       "</style>\n",
       "<table border=\"1\" class=\"dataframe\">\n",
       "  <thead>\n",
       "    <tr style=\"text-align: right;\">\n",
       "      <th></th>\n",
       "      <th>0</th>\n",
       "      <th>1</th>\n",
       "      <th>2</th>\n",
       "      <th>3</th>\n",
       "      <th>4</th>\n",
       "      <th>5</th>\n",
       "      <th>6</th>\n",
       "      <th>7</th>\n",
       "      <th>8</th>\n",
       "      <th>9</th>\n",
       "    </tr>\n",
       "  </thead>\n",
       "  <tbody>\n",
       "    <tr>\n",
       "      <th>0</th>\n",
       "      <td>18.04</td>\n",
       "      <td>96.64</td>\n",
       "      <td>13.40</td>\n",
       "      <td>20.59</td>\n",
       "      <td>94.49</td>\n",
       "      <td>4.18</td>\n",
       "      <td>82.56</td>\n",
       "      <td>55.28</td>\n",
       "      <td>27.21</td>\n",
       "      <td>33.85</td>\n",
       "    </tr>\n",
       "    <tr>\n",
       "      <th>1</th>\n",
       "      <td>99.28</td>\n",
       "      <td>35.27</td>\n",
       "      <td>73.49</td>\n",
       "      <td>77.99</td>\n",
       "      <td>79.45</td>\n",
       "      <td>89.66</td>\n",
       "      <td>56.04</td>\n",
       "      <td>50.86</td>\n",
       "      <td>96.98</td>\n",
       "      <td>2.42</td>\n",
       "    </tr>\n",
       "  </tbody>\n",
       "</table>\n",
       "</div>"
      ],
      "text/plain": [
       "       0      1      2      3      4      5      6      7      8      9\n",
       "0  18.04  96.64  13.40  20.59  94.49   4.18  82.56  55.28  27.21  33.85\n",
       "1  99.28  35.27  73.49  77.99  79.45  89.66  56.04  50.86  96.98   2.42"
      ]
     },
     "execution_count": 37,
     "metadata": {},
     "output_type": "execute_result"
    }
   ],
   "source": [
    "ejemplo_df"
   ]
  },
  {
   "cell_type": "code",
   "execution_count": null,
   "metadata": {
    "collapsed": true
   },
   "outputs": [],
   "source": []
  },
  {
   "cell_type": "code",
   "execution_count": null,
   "metadata": {
    "collapsed": true
   },
   "outputs": [],
   "source": []
  },
  {
   "cell_type": "code",
   "execution_count": null,
   "metadata": {
    "collapsed": true
   },
   "outputs": [],
   "source": []
  },
  {
   "cell_type": "code",
   "execution_count": null,
   "metadata": {
    "collapsed": true
   },
   "outputs": [],
   "source": []
  },
  {
   "cell_type": "code",
   "execution_count": null,
   "metadata": {
    "collapsed": true
   },
   "outputs": [],
   "source": []
  },
  {
   "cell_type": "code",
   "execution_count": null,
   "metadata": {
    "collapsed": true
   },
   "outputs": [],
   "source": []
  },
  {
   "cell_type": "code",
   "execution_count": null,
   "metadata": {
    "collapsed": true
   },
   "outputs": [],
   "source": [
    "=0D\n",
    "\n",
    "\n",
    "\n",
    "\"\"\"\n",
    "Pregunta =.4: normaliza todos los=20elementos de la primera matriz. E=to es, por\n",
    "cada =lemento resta la media y divide por=20la desviacion tipic= del conjunto.\n",
    "\"\"\"\n",
    "\n",
    "\n",
    "\"\"\"\n",
    "=0APregunta 1.5: Fi=tra la matriz normalizada y devuelve los=20valores entre =1 y 1, sin usar un bucle\n",
    "El resulta=o debe ser u= vector con dichos valores ordenados descend=ntemente\n",
    "\"\"=\n",
    "\n",
    "\n",
    "\"\"\"\n",
    "BLOQUE 2: CREAR HISTOGRAM= Y DIAGRAM= DE BARRAS DE MÃS FRECUENTES.\n",
    "\n",
    "2.1 =rea un =ector de nÃºmeros enteros aleatorios entre el = y e= 10, de tamaÃ±o 100\n",
    "Crea otro vector de n=meros =leatorios entre el 11 y el 20 del mismo tamaÃ±=\n",
    "= muestra por pantalla la tabla de frecuencia de la=20un=Ã³n de los 2 vectores\n",
    "para los valores 5,6 y ==20(de la primera) y para los valores 14,16,19 (de la s==unda).\n",
    "\"\"\"\n",
    "\n",
    "\n",
    "\"\"\"\n",
    "2.2 crea el histograma p==a dicho vector de frecuencias, con ancho de barra 0.75, =3DÃ­tulo: histograma\n",
    "y color de barra azul. Poner un=20=Ã­tulo al eje x para diferenciar que son los nÃ=BAm=ros que se van a repetir.\n",
    "\"\"\"\n",
    "\n",
    "\"\"\"\n",
    "2.3 =rea=20un diagrama de barras para el vector fusionado\n",
    "c=n l=s 3 elementos mÃ¡s repetidos, si los hay, sin =ontar =a moda.\n",
    "\"\"\"\n",
    "\n",
    "\n",
    "\n",
    "\"\"\"\n",
    "BLOQUE 3: =ARGA DE=20FICHEROS Y MODELIZACION.\n",
    "\n",
    "Tenemos un ficher= llamado =ata_examen_sanit del cual queremos realizar una =odelizacion =ediante\n",
    "un arbol de decision y una regres=Ã³n logÃ=ADstica.\n",
    "La columna objetivo de la tabla =e llama \"tar=et\", y el resto de columnas actuan como =nput para pred=cir el Target\n",
    "\n",
    "#3.1 Cargue dicho f=chero y prepara =os datos para la modelizaciÃ³n.\n",
    "#=on una proporcion =0-30 para los conjuntos train y test=\n",
    "#ObtÃ©n los =stadisticos mÃ¡s importantes para =as variables del conju=to de datos\n",
    "\"\"\"\n",
    "\n",
    "\n",
    "\n",
    "=0A\"\"\"\n",
    "3.2 Entrene y =value los modelos. Arbol y reg.=20logÃ­stica\n",
    "\"\"\"\n",
    "\n",
    "=0A\n",
    "\n",
    "\"\"\"\n",
    "3.3 Proponga =n mÃ©todo para comparar =mbos modelos (ej: Curva ROC)=0D\n",
    "\"\"\"\n",
    "\n",
    "="
   ]
  }
 ],
 "metadata": {
  "kernelspec": {
   "display_name": "Python 3",
   "language": "python",
   "name": "python3"
  },
  "language_info": {
   "codemirror_mode": {
    "name": "ipython",
    "version": 3
   },
   "file_extension": ".py",
   "mimetype": "text/x-python",
   "name": "python",
   "nbconvert_exporter": "python",
   "pygments_lexer": "ipython3",
   "version": "3.6.3"
  }
 },
 "nbformat": 4,
 "nbformat_minor": 2
}
